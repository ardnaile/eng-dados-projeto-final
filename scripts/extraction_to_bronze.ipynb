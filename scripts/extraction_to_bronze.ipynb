{
 "cells": [
  {
   "cell_type": "code",
   "execution_count": null,
   "metadata": {},
   "outputs": [],
   "source": [
    "%pip install pyspark findspark hadoop-azure azure-storage pymongo[srv]"
   ]
  },
  {
   "cell_type": "code",
   "execution_count": 13,
   "metadata": {},
   "outputs": [
    {
     "name": "stdout",
     "output_type": "stream",
     "text": [
      "Lendo coleção: cars\n",
      "root\n",
      "\n",
      "A coleção cars está vazia.\n",
      "Lendo coleção: sales\n",
      "root\n",
      "\n",
      "A coleção sales está vazia.\n",
      "Lendo coleção: services\n",
      "root\n",
      "\n",
      "A coleção services está vazia.\n",
      "Lendo coleção: employees\n",
      "root\n",
      "\n",
      "A coleção employees está vazia.\n",
      "Lendo coleção: payments\n",
      "root\n",
      "\n",
      "A coleção payments está vazia.\n",
      "Lendo coleção: clients\n",
      "root\n",
      "\n",
      "A coleção clients está vazia.\n"
     ]
    }
   ],
   "source": [
    "from pyspark.sql import SparkSession\n",
    "from pymongo import MongoClient\n",
    "import os\n",
    "\n",
    "# Configurações do Azure Data Lake\n",
    "account_name = os.environ[\"AZURE_STORAGE_ACCOUNT_NAME\"]\n",
    "sas_token = os.environ[\"AZURE_STORAGE_SAS_TOKEN\"]\n",
    "\n",
    "# Configurações do MongoDB\n",
    "mongodb_uri = os.environ[\"MONGODB_CONNECTION_STRING\"]\n",
    "mongodb_database = os.environ[\"MONGODB_DATABASE\"]\n",
    "\n",
    "# Inicialização do SparkSession\n",
    "spark = SparkSession.builder \\\n",
    "    .appName(\"Extrair MongoDB para Azure\") \\\n",
    "    .config(\"spark.jars.packages\", \"org.apache.hadoop:hadoop-azure:3.3.4,org.mongodb.spark:mongo-spark-connector_2.12:10.4.0\") \\\n",
    "    .config(\"spark.hadoop.fs.azure\", \"org.apache.hadoop.fs.azure.NativeAzureFileSystem\") \\\n",
    "    .config(\"spark.driver.extraJavaOptions\", \"-Dlog4j.configuration=file:/path/to/log4j.properties\") \\\n",
    "    .getOrCreate()\n",
    "\n",
    "# Conexão ao MongoDB para listar coleções\n",
    "client = MongoClient(mongodb_uri)\n",
    "db = client[mongodb_database]\n",
    "collections = db.list_collection_names()\n",
    "\n",
    "# Caminho do contêiner\n",
    "bronze_container = f\"abfs://bronze@{account_name}.dfs.core.windows.net\"\n",
    "\n",
    "# Processar as coleções do MongoDB\n",
    "for collection in collections:\n",
    "    print(f\"Lendo coleção: {collection}\")\n",
    "    try:\n",
    "        # Leitura da coleção do MongoDB\n",
    "        df = spark.read \\\n",
    "            .format(\"mongodb\") \\\n",
    "            .option(\"uri\", mongodb_uri) \\\n",
    "            .option(\"database\", mongodb_database) \\\n",
    "            .option(\"collection\", collection) \\\n",
    "            .load()\n",
    "\n",
    "        # Exibir o esquema para verificar se há dados\n",
    "        df.printSchema()\n",
    "\n",
    "        # Verificar se o DataFrame está vazio\n",
    "        if df.count() == 0:\n",
    "            print(f\"A coleção {collection} está vazia.\")\n",
    "        else:\n",
    "            # Caminho de saída para o Data Lake\n",
    "            output_path = f\"{bronze_container}/{collection}.parquet\"\n",
    "\n",
    "            # Gravar no Data Lake\n",
    "            df.write.mode(\"overwrite\").parquet(output_path)\n",
    "\n",
    "            print(f\"Coleção {collection} salva em {output_path}\")\n",
    "    except Exception as e:\n",
    "        print(f\"Erro ao processar a coleção {collection}: {e}\")\n",
    "\n",
    "# Finalizar SparkSession\n",
    "spark.stop()\n"
   ]
  }
 ],
 "metadata": {
  "kernelspec": {
   "display_name": "Python 3",
   "language": "python",
   "name": "python3"
  },
  "language_info": {
   "codemirror_mode": {
    "name": "ipython",
    "version": 3
   },
   "file_extension": ".py",
   "mimetype": "text/x-python",
   "name": "python",
   "nbconvert_exporter": "python",
   "pygments_lexer": "ipython3",
   "version": "3.12.3"
  }
 },
 "nbformat": 4,
 "nbformat_minor": 2
}
