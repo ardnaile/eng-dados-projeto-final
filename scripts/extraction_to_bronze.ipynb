{
 "cells": [
  {
   "cell_type": "code",
   "execution_count": null,
   "metadata": {},
   "outputs": [
    {
     "ename": "ModuleNotFoundError",
     "evalue": "No module named 'pyspark'",
     "output_type": "error",
     "traceback": [
      "\u001b[1;31m---------------------------------------------------------------------------\u001b[0m",
      "\u001b[1;31mModuleNotFoundError\u001b[0m                       Traceback (most recent call last)",
      "Cell \u001b[1;32mIn[2], line 1\u001b[0m\n\u001b[1;32m----> 1\u001b[0m \u001b[38;5;28;01mfrom\u001b[39;00m \u001b[38;5;21;01mpyspark\u001b[39;00m\u001b[38;5;21;01m.\u001b[39;00m\u001b[38;5;21;01msql\u001b[39;00m \u001b[38;5;28;01mimport\u001b[39;00m SparkSession\n\u001b[0;32m      2\u001b[0m \u001b[38;5;28;01mfrom\u001b[39;00m \u001b[38;5;21;01mazure\u001b[39;00m\u001b[38;5;21;01m.\u001b[39;00m\u001b[38;5;21;01mstorage\u001b[39;00m\u001b[38;5;21;01m.\u001b[39;00m\u001b[38;5;21;01mblob\u001b[39;00m \u001b[38;5;28;01mimport\u001b[39;00m BlobServiceClient\n\u001b[0;32m      3\u001b[0m \u001b[38;5;28;01mimport\u001b[39;00m \u001b[38;5;21;01mpymongo\u001b[39;00m\n",
      "\u001b[1;31mModuleNotFoundError\u001b[0m: No module named 'pyspark'"
     ]
    }
   ],
   "source": [
    "from pyspark.sql import SparkSession\n",
    "from azure.storage.blob import BlobServiceClient\n",
    "import pymongo\n",
    "from pymongo import MongoClient\n",
    "import os\n",
    "\n",
    "# Inicialização do SparkSession\n",
    "spark = SparkSession.builder \\\n",
    "    .appName(\"Extrair MongoDB para Azure\") \\\n",
    "    .config(\"spark.mongodb.read.connection.uri\", os.environ[\"MONGODB_CONNECTION_STRING\"]) \\\n",
    "    .getOrCreate()\n",
    "\n",
    "# Conexão ao MongoDB para listar coleções\n",
    "client = MongoClient(os.environ[\"MONGODB_CONNECTION_STRING\"])\n",
    "db = client[os.environ[\"MONGODB_DATABASE\"]]\n",
    "collections = db.list_collection_names()\n",
    "\n",
    "# Loop para processar todas as coleções\n",
    "for collection in collections:\n",
    "    # Leitura da coleção no MongoDB como DataFrame\n",
    "    df = spark.read \\\n",
    "        .format(\"mongodb\") \\\n",
    "        .option(\"uri\", f\"{os.environ[\"MONGODB_CONNECTION_STRING\"]}.{collection}\") \\\n",
    "        .load()\n",
    "    \n",
    "    # Exibir esquema para depuração (opcional)\n",
    "    df.printSchema()\n",
    "    \n",
    "    # Caminho no Data Lake para salvar\n",
    "    output_path = f\"{os.environ[\"AZURE_STORAGE_ACCOUNT_URL\"]}/{collection}.parquet\"\n",
    "    \n",
    "    # Gravação no Data Lake em formato Parquet\n",
    "    df.write \\\n",
    "        .mode(\"overwrite\") \\\n",
    "        .parquet(output_path)\n",
    "    \n",
    "    print(f\"Coleção {collection} salva em {output_path}\")\n",
    "\n",
    "# Encerrar sessão Spark\n",
    "spark.stop()\n"
   ]
  }
 ],
 "metadata": {
  "kernelspec": {
   "display_name": "Python 3",
   "language": "python",
   "name": "python3"
  },
  "language_info": {
   "codemirror_mode": {
    "name": "ipython",
    "version": 3
   },
   "file_extension": ".py",
   "mimetype": "text/x-python",
   "name": "python",
   "nbconvert_exporter": "python",
   "pygments_lexer": "ipython3",
   "version": "3.12.3"
  }
 },
 "nbformat": 4,
 "nbformat_minor": 2
}
