{
 "cells": [
  {
   "cell_type": "code",
   "execution_count": null,
   "metadata": {},
   "outputs": [
    {
     "name": "stdout",
     "output_type": "stream",
     "text": [
      "Lendo coleção: cars\n",
      "Dados da coleção 'cars' enviados para cars.json\n",
      "Lendo coleção: sales\n",
      "Dados da coleção 'sales' enviados para sales.json\n",
      "Lendo coleção: services\n",
      "Dados da coleção 'services' enviados para services.json\n",
      "Lendo coleção: employees\n",
      "Dados da coleção 'employees' enviados para employees.json\n",
      "Lendo coleção: payments\n",
      "Dados da coleção 'payments' enviados para payments.json\n",
      "Lendo coleção: clients\n",
      "Dados da coleção 'clients' enviados para clients.json\n"
     ]
    }
   ],
   "source": [
    "from pymongo import MongoClient\n",
    "from azure.storage.blob import BlobServiceClient\n",
    "import os\n",
    "import json\n",
    "\n",
    "# Configurações do Azure Data Lake\n",
    "account_name = os.getenv('AZURE_STORAGE_ACCOUNT_NAME')\n",
    "sas_token = os.getenv('AZURE_STORAGE_SAS_TOKEN')\n",
    "account_url = f'https://{account_name}.blob.core.windows.net'\n",
    "\n",
    "# Configurações do MongoDB\n",
    "mongodb_uri = os.getenv('MONGODB_CONNECTION_STRING')\n",
    "mongodb_database = os.getenv('MONGODB_DATABASE')\n",
    "\n",
    "# Conexão ao MongoDB para listar coleções\n",
    "client = MongoClient(mongodb_uri)\n",
    "db = client[mongodb_database]\n",
    "collections = db.list_collection_names()\n",
    "\n",
    "blob_service_client = BlobServiceClient(account_url=f'{account_url}?{sas_token}')\n",
    "\n",
    "# Caminho do contêiner\n",
    "landing_container = f'abfs://landing-zone@{account_name}.dfs.core.windows.net'\n",
    "\n",
    "# Processar as coleções do MongoDB\n",
    "for collection_name in collections:\n",
    "    print(f'Lendo coleção: {collection_name}')\n",
    "    try:\n",
    "        collection = db[collection_name]\n",
    "        content = collection.find()\n",
    "        documents = list(content)\n",
    "\n",
    "        if not documents:\n",
    "            print(f'A coleção {collection_name} está vazia.')\n",
    "        else:\n",
    "            for record in documents:\n",
    "                for key in record:\n",
    "                    record[key] = str(record[key])\n",
    "        \n",
    "            json_data = json.dumps(documents, indent=4)\n",
    "\n",
    "            blob_name = f'{collection_name}.json'\n",
    "            blob_client = blob_service_client.get_blob_client(container='landing-zone', blob=blob_name)\n",
    "            blob_client.upload_blob(json_data, overwrite=True)\n",
    "\n",
    "            print(f'Dados da coleção '{collection_name}' enviados para {blob_name}')\n",
    "    except Exception as e:\n",
    "        print(f'Erro ao processar a coleção {collection_name}: {e}')\n",
    "\n"
   ]
  },
  {
   "cell_type": "code",
   "execution_count": null,
   "metadata": {},
   "outputs": [],
   "source": []
  }
 ],
 "metadata": {
  "kernelspec": {
   "display_name": "Python 3",
   "language": "python",
   "name": "python3"
  },
  "language_info": {
   "codemirror_mode": {
    "name": "ipython",
    "version": 3
   },
   "file_extension": ".py",
   "mimetype": "text/x-python",
   "name": "python",
   "nbconvert_exporter": "python",
   "pygments_lexer": "ipython3",
   "version": "3.12.3"
  }
 },
 "nbformat": 4,
 "nbformat_minor": 2
}
