{
 "cells": [
  {
   "cell_type": "code",
   "execution_count": null,
   "metadata": {
    "vscode": {
     "languageId": "plaintext"
    }
   },
   "outputs": [],
   "source": [
    "# Databricks Notebook para análise de dados no Data Lake\n",
    "\n",
    "from configs import databricks_config \n",
    "\n",
    "# 1. Configurações\n",
    "spark.conf.set(f\"fs.azure.account.key.{databricks_config.storage_account}.dfs.core.windows.net\", databricks_config.access_key)\n",
    "bronze_path = \"/data/bronze/mongodb_data\"\n",
    "silver_path = \"/data/silver/mongodb_data\"\n",
    "gold_path = \"/data/gold/mongodb_aggregated\"\n",
    "\n",
    "# 2. Leitura de dados do Bronze\n",
    "bronze_df = spark.read.format(\"delta\").load(bronze_path)\n",
    "display(bronze_df)\n",
    "\n",
    "# 3. Análise exploratória no Silver\n",
    "silver_df = spark.read.format(\"delta\").load(silver_path)\n",
    "silver_df.groupBy(\"categoria\").count().display()\n",
    "\n",
    "# 4. Dados agregados no Gold\n",
    "gold_df = spark.read.format(\"delta\").load(gold_path)\n",
    "gold_df.orderBy(\"count\", ascending=False).display()\n",
    "\n",
    "# Conclusões e insights\n",
    "# Inclua observações sobre a qualidade ou tendências nos dados"
   ]
  }
 ],
 "metadata": {
  "language_info": {
   "name": "python"
  }
 },
 "nbformat": 4,
 "nbformat_minor": 2
}
