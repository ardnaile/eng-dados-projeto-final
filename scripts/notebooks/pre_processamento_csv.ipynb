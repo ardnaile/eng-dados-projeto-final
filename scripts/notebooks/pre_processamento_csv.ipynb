{
  "nbformat": 4,
  "nbformat_minor": 0,
  "metadata": {
    "colab": {
      "provenance": []
    },
    "kernelspec": {
      "name": "python3",
      "display_name": "Python 3"
    },
    "language_info": {
      "name": "python"
    }
  },
  "cells": [
    {
      "cell_type": "markdown",
      "source": [
        "Instalação do Faker, imports e inicialização do Faker\n"
      ],
      "metadata": {
        "id": "3BYEUfqL5oWU"
      }
    },
    {
      "cell_type": "code",
      "source": [
        "!pip install Faker pandas"
      ],
      "metadata": {
        "id": "kwh9S9rjWuk7"
      },
      "execution_count": null,
      "outputs": []
    },
    {
      "cell_type": "code",
      "execution_count": null,
      "metadata": {
        "id": "HInxJXB_WRS8"
      },
      "outputs": [],
      "source": [
        "import pandas as pd\n",
        "from faker import Faker\n",
        "import random"
      ]
    },
    {
      "cell_type": "code",
      "source": [
        "# Inicializa o Faker e define um seed para reproduzibilidade\n",
        "fake = Faker()\n",
        "Faker.seed(0)"
      ],
      "metadata": {
        "id": "6wYdNQE5WVz1"
      },
      "execution_count": null,
      "outputs": []
    },
    {
      "cell_type": "markdown",
      "source": [
        "Funções para gerar as tabelas"
      ],
      "metadata": {
        "id": "DMBpMMo95kO_"
      }
    },
    {
      "cell_type": "code",
      "source": [
        "# Função para gerar dados de clientes\n",
        "def generate_clients(num_rows=13000):\n",
        "    data = {\n",
        "        \"client_id\": [i for i in range(1, num_rows + 1)],\n",
        "        \"name\": [fake.name() for _ in range(num_rows)],\n",
        "        \"address\": [fake.address().replace('\\n', ', ') for _ in range(num_rows)],  # Remove quebras de linha\n",
        "        \"email\": [fake.email() for _ in range(num_rows)],\n",
        "        \"phone_number\": [fake.phone_number() for _ in range(num_rows)],\n",
        "    }\n",
        "    return pd.DataFrame(data)"
      ],
      "metadata": {
        "id": "-NUVoYCvWXtD"
      },
      "execution_count": null,
      "outputs": []
    },
    {
      "cell_type": "code",
      "source": [
        "# Função para gerar dados de funcionários\n",
        "def generate_employees(num_rows=100):\n",
        "    data = {\n",
        "        \"employee_id\": [i for i in range(1, num_rows + 1)],\n",
        "        \"name\": [fake.name() for _ in range(num_rows)],\n",
        "        \"position\": [random.choice([\"Salesperson\", \"Manager\", \"Clerk\", \"Technician\"]) for _ in range(num_rows)],\n",
        "        \"hire_date\": [fake.date_between(start_date=\"-5y\", end_date=\"today\") for _ in range(num_rows)],\n",
        "    }\n",
        "    return pd.DataFrame(data)"
      ],
      "metadata": {
        "id": "Vt441sLNWbkb"
      },
      "execution_count": null,
      "outputs": []
    },
    {
      "cell_type": "code",
      "source": [
        "# Função para gerar dados de vendas\n",
        "def generate_sales(salesperson_ids, num_rows=20000):\n",
        "    data = {\n",
        "        \"sale_id\": [i for i in range(1, num_rows + 1)],\n",
        "        \"client_id\": [random.randint(1, 13000) for _ in range(num_rows)],\n",
        "        \"car_id\": [random.randint(1, 10000) for _ in range(num_rows)],\n",
        "        \"sale_date\": [fake.date_between(start_date=\"-3y\", end_date=\"today\") for _ in range(num_rows)],\n",
        "        \"employee_id\": [random.choice(salesperson_ids) for _ in range(num_rows)],\n",
        "    }\n",
        "    return pd.DataFrame(data)"
      ],
      "metadata": {
        "id": "TqUgCx-bWaUp"
      },
      "execution_count": null,
      "outputs": []
    },
    {
      "cell_type": "code",
      "source": [
        "# Função para gerar dados de pagamentos\n",
        "def generate_payments(num_rows=25000):\n",
        "    data = {\n",
        "        \"payment_id\": [i for i in range(1, num_rows + 1)],\n",
        "        \"sale_id\": [random.randint(1, 20000) for _ in range(num_rows)],\n",
        "        \"payment_date\": [fake.date_between(start_date=\"-3y\", end_date=\"today\") for _ in range(num_rows)],\n",
        "        \"amount\": [round(random.uniform(5000, 50000), 2) for _ in range(num_rows)],\n",
        "        \"payment_method\": [random.choice([\"Credit Card\", \"Cash\", \"Bank Transfer\", \"Financing\"]) for _ in range(num_rows)],\n",
        "    }\n",
        "    return pd.DataFrame(data)"
      ],
      "metadata": {
        "id": "XE8dCIuHWcp7"
      },
      "execution_count": null,
      "outputs": []
    },
    {
      "cell_type": "code",
      "source": [
        "# Função para gerar dados de serviços extras\n",
        "def generate_services(num_rows=5000):\n",
        "    data = {\n",
        "        \"service_id\": [i for i in range(1, num_rows + 1)],\n",
        "        \"sale_id\": [random.randint(1, 20000) for _ in range(num_rows)],\n",
        "        \"service_type\": [random.choice([\"Warranty\", \"Insurance\", \"Maintenance\", \"Accessories\"]) for _ in range(num_rows)],\n",
        "        \"service_date\": [fake.date_between(start_date=\"-3y\", end_date=\"today\") for _ in range(num_rows)],\n",
        "        \"cost\": [round(random.uniform(200, 2000), 2) for _ in range(num_rows)],\n",
        "    }\n",
        "    return pd.DataFrame(data)"
      ],
      "metadata": {
        "id": "sdRm725pWdnd"
      },
      "execution_count": null,
      "outputs": []
    },
    {
      "cell_type": "markdown",
      "source": [
        "Gerando e salvando as tabelas em arquivos CSV"
      ],
      "metadata": {
        "id": "Fs5MuBN-5yGs"
      }
    },
    {
      "cell_type": "code",
      "source": [
        "# Gera e salva a tabela clients\n",
        "generate_clients().to_csv(\"clients.csv\", index=False)"
      ],
      "metadata": {
        "id": "-ER2RkteWgL2"
      },
      "execution_count": null,
      "outputs": []
    },
    {
      "cell_type": "code",
      "source": [
        "# Gera e salva a tabela employees\n",
        "employees = generate_employees()\n",
        "employees.to_csv(\"employees.csv\", index=False)\n",
        "\n",
        "# Extrai os ids de vendedores para inserir na tabela de vendas\n",
        "salesperson_ids = employees[employees[\"position\"] == \"Salesperson\"][\"employee_id\"].tolist()"
      ],
      "metadata": {
        "id": "G34P_pRX4U_E"
      },
      "execution_count": null,
      "outputs": []
    },
    {
      "cell_type": "code",
      "source": [
        "# Gera e salva a tabela de vendas\n",
        "generate_sales(salesperson_ids, num_rows=20000).to_csv(\"sales.csv\", index=False)"
      ],
      "metadata": {
        "id": "fsJiER5V4n6V"
      },
      "execution_count": null,
      "outputs": []
    },
    {
      "cell_type": "code",
      "source": [
        "# Gera e salva a tabela de pagamentos\n",
        "generate_payments().to_csv(\"payments.csv\", index=False)"
      ],
      "metadata": {
        "id": "yJ5QHxi24odc"
      },
      "execution_count": null,
      "outputs": []
    },
    {
      "cell_type": "code",
      "source": [
        "# Gera e salva a tabela de serviços\n",
        "generate_services().to_csv(\"services.csv\", index=False)"
      ],
      "metadata": {
        "id": "lsx1GvSL4pZ8"
      },
      "execution_count": null,
      "outputs": []
    },
    {
      "cell_type": "markdown",
      "source": [
        "Tratando os dados da tabela cars (essa tabela foi criada por fora dos scripts)"
      ],
      "metadata": {
        "id": "7gL97zaa529L"
      }
    },
    {
      "cell_type": "code",
      "source": [
        "# Tratando os dados da tabela cars\n",
        "df = pd.read_csv('cars.csv', delimiter=\";\", encoding=\"ISO-8859-1\")\n",
        "df.head()"
      ],
      "metadata": {
        "id": "f7iM45xcxkif"
      },
      "execution_count": null,
      "outputs": []
    },
    {
      "cell_type": "code",
      "source": [
        "# Tirando os espaços dos nomes de colunas da tabela cars\n",
        "df.columns = df.columns.str.strip()\n",
        "print(df.columns)"
      ],
      "metadata": {
        "id": "vitAkL7JzNBh"
      },
      "execution_count": null,
      "outputs": []
    },
    {
      "cell_type": "code",
      "source": [
        "# Gerando novos valores para a coluna 'price' da tabela cars\n",
        "num_rows = len(df)\n",
        "\n",
        "df['price'] = [round(random.uniform(15000, 50000), 2) for _ in range(num_rows)]\n",
        "\n",
        "df.head()"
      ],
      "metadata": {
        "id": "h5uTvyuhy6FZ"
      },
      "execution_count": null,
      "outputs": []
    },
    {
      "cell_type": "code",
      "source": [
        "# Salvando a tabela cars\n",
        "df.to_csv(\"cars_utf8.csv\", index=False, encoding='utf-8')"
      ],
      "metadata": {
        "id": "Fef4i0nFx_KM"
      },
      "execution_count": null,
      "outputs": []
    },
    {
      "cell_type": "markdown",
      "source": [
        "Corrigindo tabela employees"
      ],
      "metadata": {
        "id": "xLsZBvPO6CGm"
      }
    },
    {
      "cell_type": "code",
      "source": [
        "# Conferindo a tabela employees\n",
        "df = pd.read_csv(\"employees.csv\")\n",
        "df.head()"
      ],
      "metadata": {
        "id": "8GOWT1w53ID8"
      },
      "execution_count": null,
      "outputs": []
    },
    {
      "cell_type": "code",
      "source": [
        "# Reescrevendo dados da colune 'hire_date'da tabela employees\n",
        "df['hire_date'] = [fake.date_between(start_date=\"-5y\", end_date=\"today\") for _ in range(len(df))]\n",
        "df.head()"
      ],
      "metadata": {
        "id": "Q7s9kJE73alh"
      },
      "execution_count": null,
      "outputs": []
    },
    {
      "cell_type": "code",
      "source": [
        "# Salvando a tabela employees\n",
        "df.to_csv(\"employees.csv\", index=False, encoding='utf-8')"
      ],
      "metadata": {
        "id": "3kMUX3vV3wbq"
      },
      "execution_count": null,
      "outputs": []
    }
  ]
}