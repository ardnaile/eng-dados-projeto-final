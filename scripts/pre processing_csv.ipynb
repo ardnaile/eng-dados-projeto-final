{
 "cells": [
  {
   "cell_type": "markdown",
   "metadata": {
    "id": "3BYEUfqL5oWU"
   },
   "source": [
    "Instalação do Faker, imports e inicialização do Faker\n"
   ]
  },
  {
   "cell_type": "code",
   "execution_count": null,
   "metadata": {
    "id": "kwh9S9rjWuk7"
   },
   "outputs": [],
   "source": [
    "%pip install Faker pandas"
   ]
  },
  {
   "cell_type": "code",
   "execution_count": null,
   "metadata": {
    "id": "HInxJXB_WRS8"
   },
   "outputs": [],
   "source": [
    "import pandas as pd\n",
    "from faker import Faker\n",
    "import random"
   ]
  },
  {
   "cell_type": "code",
   "execution_count": null,
   "metadata": {
    "id": "6wYdNQE5WVz1"
   },
   "outputs": [],
   "source": [
    "# Inicializa o Faker e define um seed para reproduzibilidade\n",
    "fake = Faker()\n",
    "Faker.seed(0)"
   ]
  },
  {
   "cell_type": "code",
   "execution_count": null,
   "metadata": {},
   "outputs": [],
   "source": []
  },
  {
   "cell_type": "markdown",
   "metadata": {
    "id": "DMBpMMo95kO_"
   },
   "source": [
    "Funções para gerar as tabelas"
   ]
  },
  {
   "cell_type": "code",
   "execution_count": null,
   "metadata": {
    "id": "-NUVoYCvWXtD"
   },
   "outputs": [],
   "source": [
    "# Função para gerar dados de clientes\n",
    "def generate_clients(num_rows=13000):\n",
    "    data = {\n",
    "        \"client_id\": [i for i in range(1, num_rows + 1)],\n",
    "        \"name\": [fake.name() for _ in range(num_rows)],\n",
    "        \"address\": [fake.address().replace('\\n', ', ') for _ in range(num_rows)],  # Remove quebras de linha\n",
    "        \"email\": [fake.email() for _ in range(num_rows)],\n",
    "        \"phone_number\": [fake.phone_number() for _ in range(num_rows)],\n",
    "    }\n",
    "    return pd.DataFrame(data)"
   ]
  },
  {
   "cell_type": "code",
   "execution_count": null,
   "metadata": {
    "id": "Vt441sLNWbkb"
   },
   "outputs": [],
   "source": [
    "# Função para gerar dados de funcionários\n",
    "def generate_employees(num_rows=100):\n",
    "    data = {\n",
    "        \"employee_id\": [i for i in range(1, num_rows + 1)],\n",
    "        \"name\": [fake.name() for _ in range(num_rows)],\n",
    "        \"position\": [random.choice([\"Salesperson\", \"Manager\", \"Clerk\", \"Technician\"]) for _ in range(num_rows)],\n",
    "        \"hire_date\": [fake.date_between(start_date=\"-5y\", end_date=\"today\") for _ in range(num_rows)],\n",
    "    }\n",
    "    return pd.DataFrame(data)"
   ]
  },
  {
   "cell_type": "code",
   "execution_count": null,
   "metadata": {
    "id": "TqUgCx-bWaUp"
   },
   "outputs": [],
   "source": [
    "# Função para gerar dados de vendas\n",
    "def generate_sales(salesperson_ids, num_rows=20000):\n",
    "    data = {\n",
    "        \"sale_id\": [i for i in range(1, num_rows + 1)],\n",
    "        \"client_id\": [random.randint(1, 13000) for _ in range(num_rows)],\n",
    "        \"car_id\": [random.randint(1, 10000) for _ in range(num_rows)],\n",
    "        \"sale_date\": [fake.date_between(start_date=\"-3y\", end_date=\"today\") for _ in range(num_rows)],\n",
    "        \"employee_id\": [random.choice(salesperson_ids) for _ in range(num_rows)],\n",
    "    }\n",
    "    return pd.DataFrame(data)"
   ]
  },
  {
   "cell_type": "code",
   "execution_count": null,
   "metadata": {
    "id": "XE8dCIuHWcp7"
   },
   "outputs": [],
   "source": [
    "# Função para gerar dados de pagamentos\n",
    "def generate_payments(num_rows=25000):\n",
    "    data = {\n",
    "        \"payment_id\": [i for i in range(1, num_rows + 1)],\n",
    "        \"sale_id\": [random.randint(1, 20000) for _ in range(num_rows)],\n",
    "        \"payment_date\": [fake.date_between(start_date=\"-3y\", end_date=\"today\") for _ in range(num_rows)],\n",
    "        \"amount\": [round(random.uniform(5000, 50000), 2) for _ in range(num_rows)],\n",
    "        \"payment_method\": [random.choice([\"Credit Card\", \"Cash\", \"Bank Transfer\", \"Financing\"]) for _ in range(num_rows)],\n",
    "    }\n",
    "    return pd.DataFrame(data)"
   ]
  },
  {
   "cell_type": "code",
   "execution_count": null,
   "metadata": {
    "id": "sdRm725pWdnd"
   },
   "outputs": [],
   "source": [
    "# Função para gerar dados de serviços extras\n",
    "def generate_services(num_rows=5000):\n",
    "    data = {\n",
    "        \"service_id\": [i for i in range(1, num_rows + 1)],\n",
    "        \"sale_id\": [random.randint(1, 20000) for _ in range(num_rows)],\n",
    "        \"service_type\": [random.choice([\"Warranty\", \"Insurance\", \"Maintenance\", \"Accessories\"]) for _ in range(num_rows)],\n",
    "        \"service_date\": [fake.date_between(start_date=\"-3y\", end_date=\"today\") for _ in range(num_rows)],\n",
    "        \"cost\": [round(random.uniform(200, 2000), 2) for _ in range(num_rows)],\n",
    "    }\n",
    "    return pd.DataFrame(data)"
   ]
  },
  {
   "cell_type": "markdown",
   "metadata": {
    "id": "Fs5MuBN-5yGs"
   },
   "source": [
    "Gerando e salvando as tabelas em arquivos CSV"
   ]
  },
  {
   "cell_type": "code",
   "execution_count": null,
   "metadata": {
    "id": "-ER2RkteWgL2"
   },
   "outputs": [],
   "source": [
    "# Gera e salva a tabela clients\n",
    "generate_clients().to_csv(\"clients.csv\", index=False)"
   ]
  },
  {
   "cell_type": "code",
   "execution_count": null,
   "metadata": {
    "id": "G34P_pRX4U_E"
   },
   "outputs": [],
   "source": [
    "# Gera e salva a tabela employees\n",
    "employees = generate_employees()\n",
    "employees.to_csv(\"employees.csv\", index=False)\n",
    "\n",
    "# Extrai os ids de vendedores para inserir na tabela de vendas\n",
    "salesperson_ids = employees[employees[\"position\"] == \"Salesperson\"][\"employee_id\"].tolist()"
   ]
  },
  {
   "cell_type": "code",
   "execution_count": null,
   "metadata": {
    "id": "fsJiER5V4n6V"
   },
   "outputs": [],
   "source": [
    "# Gera e salva a tabela de vendas\n",
    "generate_sales(salesperson_ids, num_rows=20000).to_csv(\"sales.csv\", index=False)"
   ]
  },
  {
   "cell_type": "code",
   "execution_count": null,
   "metadata": {
    "id": "yJ5QHxi24odc"
   },
   "outputs": [],
   "source": [
    "# Gera e salva a tabela de pagamentos\n",
    "generate_payments().to_csv(\"payments.csv\", index=False)"
   ]
  },
  {
   "cell_type": "code",
   "execution_count": null,
   "metadata": {
    "id": "lsx1GvSL4pZ8"
   },
   "outputs": [],
   "source": [
    "# Gera e salva a tabela de serviços\n",
    "generate_services().to_csv(\"services.csv\", index=False)"
   ]
  },
  {
   "cell_type": "markdown",
   "metadata": {
    "id": "7gL97zaa529L"
   },
   "source": [
    "Tratando os dados da tabela cars (essa tabela foi criada por fora dos scripts)"
   ]
  },
  {
   "cell_type": "code",
   "execution_count": null,
   "metadata": {
    "id": "f7iM45xcxkif"
   },
   "outputs": [],
   "source": [
    "# Tratando os dados da tabela cars\n",
    "df = pd.read_csv('cars.csv', delimiter=\";\", encoding=\"ISO-8859-1\")\n",
    "df.head()"
   ]
  },
  {
   "cell_type": "code",
   "execution_count": null,
   "metadata": {
    "id": "vitAkL7JzNBh"
   },
   "outputs": [],
   "source": [
    "# Tirando os espaços dos nomes de colunas da tabela cars\n",
    "df.columns = df.columns.str.strip()\n",
    "print(df.columns)"
   ]
  },
  {
   "cell_type": "code",
   "execution_count": null,
   "metadata": {
    "id": "h5uTvyuhy6FZ"
   },
   "outputs": [],
   "source": [
    "# Gerando novos valores para a coluna 'price' da tabela cars\n",
    "num_rows = len(df)\n",
    "\n",
    "df['price'] = [round(random.uniform(15000, 50000), 2) for _ in range(num_rows)]\n",
    "\n",
    "df.head()"
   ]
  },
  {
   "cell_type": "code",
   "execution_count": null,
   "metadata": {
    "id": "Fef4i0nFx_KM"
   },
   "outputs": [],
   "source": [
    "# Salvando a tabela cars\n",
    "df.to_csv(\"cars_utf8.csv\", index=False, encoding='utf-8')"
   ]
  },
  {
   "cell_type": "markdown",
   "metadata": {
    "id": "xLsZBvPO6CGm"
   },
   "source": [
    "Corrigindo tabela employees"
   ]
  },
  {
   "cell_type": "code",
   "execution_count": null,
   "metadata": {
    "id": "8GOWT1w53ID8"
   },
   "outputs": [],
   "source": [
    "# Conferindo a tabela employees\n",
    "df = pd.read_csv(\"employees.csv\")\n",
    "df.head()"
   ]
  },
  {
   "cell_type": "code",
   "execution_count": null,
   "metadata": {
    "id": "Q7s9kJE73alh"
   },
   "outputs": [],
   "source": [
    "# Reescrevendo dados da colune 'hire_date'da tabela employees\n",
    "df['hire_date'] = [fake.date_between(start_date=\"-5y\", end_date=\"today\") for _ in range(len(df))]\n",
    "df.head()"
   ]
  },
  {
   "cell_type": "code",
   "execution_count": null,
   "metadata": {
    "id": "3kMUX3vV3wbq"
   },
   "outputs": [],
   "source": [
    "# Salvando a tabela employees\n",
    "df.to_csv(\"employees.csv\", index=False, encoding='utf-8')"
   ]
  }
 ],
 "metadata": {
  "colab": {
   "provenance": []
  },
  "kernelspec": {
   "display_name": "Python 3",
   "name": "python3"
  },
  "language_info": {
   "name": "python",
   "version": "3.12.3"
  }
 },
 "nbformat": 4,
 "nbformat_minor": 0
}
