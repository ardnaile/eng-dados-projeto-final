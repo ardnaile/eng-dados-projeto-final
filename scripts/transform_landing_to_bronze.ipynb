{
 "cells": [
  {
   "cell_type": "code",
   "execution_count": null,
   "metadata": {},
   "outputs": [
    {
     "name": "stdout",
     "output_type": "stream",
     "text": [
      "Collecting delta-spark\n",
      "  Downloading delta_spark-3.2.1-py3-none-any.whl.metadata (1.9 kB)\n",
      "Requirement already satisfied: pyspark<3.6.0,>=3.5.3 in c:\\users\\user\\appdata\\local\\programs\\python\\python312\\lib\\site-packages (from delta-spark) (3.5.3)\n",
      "Collecting importlib-metadata>=1.0.0 (from delta-spark)\n",
      "  Downloading importlib_metadata-8.5.0-py3-none-any.whl.metadata (4.8 kB)\n",
      "Collecting zipp>=3.20 (from importlib-metadata>=1.0.0->delta-spark)\n",
      "  Downloading zipp-3.21.0-py3-none-any.whl.metadata (3.7 kB)\n",
      "Requirement already satisfied: py4j==0.10.9.7 in c:\\users\\user\\appdata\\local\\programs\\python\\python312\\lib\\site-packages (from pyspark<3.6.0,>=3.5.3->delta-spark) (0.10.9.7)\n",
      "Downloading delta_spark-3.2.1-py3-none-any.whl (21 kB)\n",
      "Downloading importlib_metadata-8.5.0-py3-none-any.whl (26 kB)\n",
      "Downloading zipp-3.21.0-py3-none-any.whl (9.6 kB)\n",
      "Installing collected packages: zipp, importlib-metadata, delta-spark\n",
      "Successfully installed delta-spark-3.2.1 importlib-metadata-8.5.0 zipp-3.21.0\n",
      "Note: you may need to restart the kernel to use updated packages.\n"
     ]
    },
    {
     "name": "stderr",
     "output_type": "stream",
     "text": [
      "\n",
      "[notice] A new release of pip is available: 24.0 -> 24.3.1\n",
      "[notice] To update, run: python.exe -m pip install --upgrade pip\n"
     ]
    }
   ],
   "source": [
    "%pip install pyspark findspark hadoop-azure azure-storage pymongo[srv] pandas delta-spark"
   ]
  },
  {
   "cell_type": "code",
   "execution_count": 2,
   "metadata": {},
   "outputs": [
    {
     "name": "stdout",
     "output_type": "stream",
     "text": [
      "Erro ao acessar configurar a sessão do spark: [JAVA_GATEWAY_EXITED] Java gateway process exited before sending its port number.\n",
      "Tabelas encontradas no container 'landing': ['cars.json', 'clients.json', 'employees.json', 'payments.json', 'sales.json', 'services.json']\n",
      "Erro ao processar a coleção cars: name 'spark' is not defined\n",
      "Erro ao processar a coleção clients: name 'spark' is not defined\n",
      "Erro ao processar a coleção employees: name 'spark' is not defined\n",
      "Erro ao processar a coleção payments: name 'spark' is not defined\n",
      "Erro ao processar a coleção sales: name 'spark' is not defined\n",
      "Erro ao processar a coleção services: name 'spark' is not defined\n"
     ]
    }
   ],
   "source": [
    "from pyspark.sql import SparkSession\n",
    "from azure.storage.blob import BlobServiceClient\n",
    "from delta import configure_spark_with_delta_pip\n",
    "import pandas as pd\n",
    "import os\n",
    "\n",
    "# Configurações do Azure Data Lake\n",
    "account_name = os.environ[\"AZURE_STORAGE_ACCOUNT_NAME\"]\n",
    "sas_token = os.environ[\"AZURE_STORAGE_SAS_TOKEN\"]\n",
    "account_url = f\"https://{account_name}.blob.core.windows.net\"\n",
    "\n",
    "try:\n",
    "    builder = SparkSession.builder.appName(\"Delta_Lake_with_SAS\") \\\n",
    "        .config(\"spark.sql.extensions\", \"io.delta.sql.DeltaSparkSessionExtension\") \\\n",
    "        .config(\"spark.sql.catalog.spark_catalog\", \"org.apache.spark.sql.delta.catalog.DeltaCatalog\") \\\n",
    "        .config(f\"fs.azure.sas.bronze.{account_name}.blob.core.windows.net\", sas_token)\n",
    "\n",
    "    spark = configure_spark_with_delta_pip(builder).getOrCreate()\n",
    "except Exception as e:\n",
    "    print(f\"Erro ao acessar configurar a sessão do spark: {e}\")\n",
    "\n",
    "# Listar todos os arquivos na camada Landing (com base em arquivos .parquet)\n",
    "blob_service_client = BlobServiceClient(account_url=f\"{account_url}?{sas_token}\")\n",
    "container_client = blob_service_client.get_container_client(\"landing-zone\")\n",
    "\n",
    "try:\n",
    "    # Inicialize a lista de tabelas\n",
    "    landing_tables = [blob.name for blob in container_client.list_blobs() if blob.name.endswith(\".json\")]\n",
    "    print(f\"Tabelas encontradas no container 'landing': {landing_tables}\")\n",
    "except Exception as e:\n",
    "    print(f\"Erro ao acessar o container ou listar blobs: {e}\")\n",
    "\n",
    "if not landing_tables:\n",
    "    print(\"Nenhum arquivo .parquet encontrado no container.\")\n",
    "else:\n",
    "    for landing_path in landing_tables:\n",
    "        try:\n",
    "            table_name = landing_path.split(\".\")[0]\n",
    "            bronze_path = f\"wasbs://bronze@{account_name}.blob.core.windows.net/{table_name + \".parquet\"}\"\n",
    "\n",
    "            landing_blob_client = blob_service_client.get_blob_client(container=\"landing-zone\", blob=landing_path)\n",
    "            bronze_tblob_client = blob_service_client.get_blob_client(container=\"bronze\", blob=landing_path)\n",
    "\n",
    "            json_data = landing_blob_client.download_blob().readall()\n",
    "\n",
    "            df = spark.createDataFrame(json_data)\n",
    "\n",
    "            # Salvar os dados no formato Delta no Azure Blob Storage\n",
    "            df.write.format(\"delta\").mode(\"overwrite\").save(bronze_path)\n",
    "\n",
    "            print(f\"Tabela {table_name} transformada e salva em {bronze_path}\")\n",
    "        except Exception as e:\n",
    "            print(f\"Erro ao processar a coleção {table_name}: {e}\")\n"
   ]
  }
 ],
 "metadata": {
  "kernelspec": {
   "display_name": "Python 3",
   "language": "python",
   "name": "python3"
  },
  "language_info": {
   "codemirror_mode": {
    "name": "ipython",
    "version": 3
   },
   "file_extension": ".py",
   "mimetype": "text/x-python",
   "name": "python",
   "nbconvert_exporter": "python",
   "pygments_lexer": "ipython3",
   "version": "3.12.3"
  }
 },
 "nbformat": 4,
 "nbformat_minor": 2
}
