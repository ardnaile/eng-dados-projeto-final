{
 "cells": [
  {
   "cell_type": "code",
   "execution_count": null,
   "metadata": {},
   "outputs": [],
   "source": [
    "from pyspark.sql import SparkSession\n",
    "from pyspark.sql.functions import col, when\n",
    "from azure.storage.blob import BlobServiceClient\n",
    "import os\n",
    "\n",
    "# Configurações de caminhos para camada Silver e Gold\n",
    "silver_path = f\"{os.environ['AZURE_STORAGE_ACCOUNT_URL']}/gold\"\n",
    "gold_path = f\"{os.environ['AZURE_STORAGE_ACCOUNT_URL']}/gold\"\n",
    "\n",
    "# Inicialização do SparkSession\n",
    "spark = SparkSession.builder \\\n",
    "    .appName(\"Transformar Silver para Gold\") \\\n",
    "    .getOrCreate()\n",
    "\n",
    "# Listar todos os arquivos na camada Silver (com base em arquivos .parquet)\n",
    "blob_service_client = BlobServiceClient(account_url=os.environ['AZURE_STORAGE_ACCOUNT_URL'])\n",
    "container_client = blob_service_client.get_container_client(\"gold\")\n",
    "silver_tables = [blob.name for blob in container_client.list_blobs() if blob.name.endswith(\".parquet\")]\n",
    "\n",
    "# Loop para processar cada tabela da camada Silver\n",
    "for table_path in silver_tables:\n",
    "    # Nome da tabela com base no caminho do arquivo\n",
    "    table_name = table_path.split(\"/\")[-1].replace(\".parquet\", \"\")\n",
    "\n",
    "    # Leitura dos dados da camada Silver\n",
    "    df_silver = spark.read.parquet(f\"abfss://gold@{os.environ['AZURE_STORAGE_ACCOUNT_NAME']}.dfs.core.windows.net/{table_path}\")\n",
    "\n",
    "    #TODO: Desenvolver camada Gold\n",
    "    df_gold = df_silver \\\n",
    "\n",
    "    # Caminho da tabela transformada na camada Gold\n",
    "    gold_table_path = f\"{gold_path}/{table_name}.parquet\"\n",
    "\n",
    "    # Gravação no Azure Data Lake em formato Parquet\n",
    "    df_gold.write \\\n",
    "        .mode(\"overwrite\") \\\n",
    "        .parquet(f\"abfss://gold@{os.environ['AZURE_STORAGE_ACCOUNT_NAME']}.dfs.core.windows.net/{gold_table_path}\")\n",
    "\n",
    "    print(f\"Tabela {table_name} transformada e salva em {gold_table_path}\")\n",
    "\n",
    "# Encerrar sessão Spark\n",
    "spark.stop()\n"
   ]
  }
 ],
 "metadata": {
  "kernelspec": {
   "display_name": "Python 3",
   "language": "python",
   "name": "python3"
  },
  "language_info": {
   "codemirror_mode": {
    "name": "ipython",
    "version": 3
   },
   "file_extension": ".py",
   "mimetype": "text/x-python",
   "name": "python",
   "nbconvert_exporter": "python",
   "pygments_lexer": "ipython3",
   "version": "3.12.3"
  }
 },
 "nbformat": 4,
 "nbformat_minor": 2
}
